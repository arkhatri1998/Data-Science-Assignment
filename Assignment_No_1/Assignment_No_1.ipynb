{
 "cells": [
  {
   "cell_type": "code",
   "execution_count": 1,
   "id": "0bf7665d",
   "metadata": {},
   "outputs": [
    {
     "name": "stdout",
     "output_type": "stream",
     "text": [
      "Twinkle, twinkle, little star,\n",
      "     How I wonder what you are!\n",
      "         Up above the world so high,\n",
      "         Like a diamond in the sky.\n",
      " Twinkle, twinkle, little star,\n",
      "     How I wonder what you are!\n",
      "\n"
     ]
    }
   ],
   "source": [
    "print (\"Twinkle, twinkle, little star,\\n\",\n",
    "      \"    How I wonder what you are!\\n\",\n",
    "      \"        Up above the world so high,\\n\",\n",
    "      \"        Like a diamond in the sky.\\n\",\n",
    "      \"Twinkle, twinkle, little star,\\n\",\n",
    "      \"    How I wonder what you are!\\n\")"
   ]
  },
  {
   "cell_type": "code",
   "execution_count": 3,
   "id": "4ee658a9",
   "metadata": {},
   "outputs": [
    {
     "name": "stdout",
     "output_type": "stream",
     "text": [
      "Python version\n",
      "3.8.8 (default, Apr 13 2021, 15:08:03) [MSC v.1916 64 bit (AMD64)]\n",
      "Version info.\n",
      "sys.version_info(major=3, minor=8, micro=8, releaselevel='final', serial=0)\n"
     ]
    }
   ],
   "source": [
    "import sys\n",
    "print(\"Python version\")\n",
    "print (sys.version)\n",
    "print(\"Version info.\")\n",
    "print (sys.version_info)"
   ]
  },
  {
   "cell_type": "code",
   "execution_count": 4,
   "id": "c9aef9eb",
   "metadata": {},
   "outputs": [
    {
     "name": "stdout",
     "output_type": "stream",
     "text": [
      "2021-12-30 05:33:56.213110\n"
     ]
    }
   ],
   "source": [
    "import datetime\n",
    "\n",
    "x = datetime.datetime.now()\n",
    "print(x)"
   ]
  },
  {
   "cell_type": "code",
   "execution_count": 5,
   "id": "5b589993",
   "metadata": {},
   "outputs": [
    {
     "name": "stdout",
     "output_type": "stream",
     "text": [
      "Enter a radius : 2\n",
      "12.566370614359172\n"
     ]
    }
   ],
   "source": [
    "import math\n",
    "radius=float(input(\"Enter a radius : \"))\n",
    "Area= math.pi*(radius*radius)\n",
    "print(Area)"
   ]
  },
  {
   "cell_type": "code",
   "execution_count": 6,
   "id": "5244204b",
   "metadata": {},
   "outputs": [
    {
     "name": "stdout",
     "output_type": "stream",
     "text": [
      "Enter Your First name : Abdur\n",
      "Enter Your Last name : Rehman\n",
      "Rehman Abdur\n"
     ]
    }
   ],
   "source": [
    "a = str(input(\"Enter Your First name : \"))\n",
    "b = str(input(\"Enter Your Last name : \"))\n",
    "print (b, a)"
   ]
  },
  {
   "cell_type": "code",
   "execution_count": 9,
   "id": "1d41735b",
   "metadata": {},
   "outputs": [
    {
     "name": "stdout",
     "output_type": "stream",
     "text": [
      "Enter First Amount : 2\n",
      "Enter Second Amount : 3\n",
      "Your total amount is : 5\n"
     ]
    }
   ],
   "source": [
    "a= int(input(\"Enter First Amount : \"))\n",
    "b= int(input(\"Enter Second Amount : \"))\n",
    "total = a + b\n",
    "print (\"Your total amount is :\",total)"
   ]
  },
  {
   "cell_type": "code",
   "execution_count": null,
   "id": "d645200f",
   "metadata": {},
   "outputs": [],
   "source": []
  }
 ],
 "metadata": {
  "kernelspec": {
   "display_name": "Python 3",
   "language": "python",
   "name": "python3"
  },
  "language_info": {
   "codemirror_mode": {
    "name": "ipython",
    "version": 3
   },
   "file_extension": ".py",
   "mimetype": "text/x-python",
   "name": "python",
   "nbconvert_exporter": "python",
   "pygments_lexer": "ipython3",
   "version": "3.8.8"
  }
 },
 "nbformat": 4,
 "nbformat_minor": 5
}
